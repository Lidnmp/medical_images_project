{
 "cells": [
  {
   "cell_type": "markdown",
   "id": "7e894746-1d94-494d-95dd-7f047af6ff77",
   "metadata": {},
   "source": [
    "# Medical Images Project\n",
    "---\n",
    "RadCTTACEomics_1447\n",
    "  \n",
    "- **Reference image**: 11_AP_Ax5.00mm\n",
    "- **Input image**: 31_EQP_Ax5.00mm\n",
    "\n",
    "## DICOM loading and visualization"
   ]
  },
  {
   "cell_type": "code",
   "execution_count": 1,
   "id": "8eedacec-599f-4a9e-af89-8327fc8f2df6",
   "metadata": {},
   "outputs": [],
   "source": [
    "import os\n",
    "import pydicom"
   ]
  },
  {
   "cell_type": "code",
   "execution_count": null,
   "id": "eedc0416-089c-4640-b639-b569a40aaa86",
   "metadata": {},
   "outputs": [],
   "source": []
  },
  {
   "cell_type": "code",
   "execution_count": null,
   "id": "7f06cea5-2128-4ef5-85ad-588d70e531f6",
   "metadata": {},
   "outputs": [],
   "source": []
  }
 ],
 "metadata": {
  "kernelspec": {
   "display_name": "Python 3 (ipykernel)",
   "language": "python",
   "name": "python3"
  },
  "language_info": {
   "codemirror_mode": {
    "name": "ipython",
    "version": 3
   },
   "file_extension": ".py",
   "mimetype": "text/x-python",
   "name": "python",
   "nbconvert_exporter": "python",
   "pygments_lexer": "ipython3",
   "version": "3.9.22"
  }
 },
 "nbformat": 4,
 "nbformat_minor": 5
}
